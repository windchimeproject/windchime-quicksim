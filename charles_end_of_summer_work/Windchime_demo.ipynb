{
 "cells": [
  {
   "cell_type": "markdown",
   "metadata": {},
   "source": [
    "# Windchime Demo"
   ]
  },
  {
   "cell_type": "markdown",
   "metadata": {},
   "source": [
    "This notebook is a demo on how our windchime simulation/analysis is performed."
   ]
  },
  {
   "cell_type": "markdown",
   "metadata": {},
   "source": [
    "---------"
   ]
  },
  {
   "cell_type": "markdown",
   "metadata": {},
   "source": [
    "### Initialization"
   ]
  },
  {
   "cell_type": "markdown",
   "metadata": {},
   "source": [
    "This creates the detector and tracks to be used in the simulation."
   ]
  },
  {
   "cell_type": "code",
   "execution_count": 1,
   "metadata": {},
   "outputs": [
    {
     "ename": "ModuleNotFoundError",
     "evalue": "No module named 'planckmc'",
     "output_type": "error",
     "traceback": [
      "\u001b[0;31m---------------------------------------------------------------------------\u001b[0m",
      "\u001b[0;31mModuleNotFoundError\u001b[0m                       Traceback (most recent call last)",
      "\u001b[0;32m<ipython-input-1-02d113d787f6>\u001b[0m in \u001b[0;36m<module>\u001b[0;34m\u001b[0m\n\u001b[1;32m      3\u001b[0m \u001b[0;32mfrom\u001b[0m \u001b[0mscipy\u001b[0m \u001b[0;32mimport\u001b[0m \u001b[0mstats\u001b[0m\u001b[0;34m\u001b[0m\u001b[0;34m\u001b[0m\u001b[0m\n\u001b[1;32m      4\u001b[0m \u001b[0;34m\u001b[0m\u001b[0m\n\u001b[0;32m----> 5\u001b[0;31m \u001b[0;32mfrom\u001b[0m \u001b[0mplanckmc\u001b[0m\u001b[0;34m.\u001b[0m\u001b[0mtrack_generation\u001b[0m \u001b[0;32mimport\u001b[0m \u001b[0mhalo_model\u001b[0m\u001b[0;34m\u001b[0m\u001b[0;34m\u001b[0m\u001b[0m\n\u001b[0m\u001b[1;32m      6\u001b[0m \u001b[0;32mfrom\u001b[0m \u001b[0mplanckmc\u001b[0m\u001b[0;34m.\u001b[0m\u001b[0mtrack_generation\u001b[0m \u001b[0;32mimport\u001b[0m \u001b[0mmake_tracks\u001b[0m\u001b[0;34m\u001b[0m\u001b[0;34m\u001b[0m\u001b[0m\n\u001b[1;32m      7\u001b[0m \u001b[0;34m\u001b[0m\u001b[0m\n",
      "\u001b[0;31mModuleNotFoundError\u001b[0m: No module named 'planckmc'"
     ]
    }
   ],
   "source": [
    "%matplotlib widget\n",
    "import numpy as np\n",
    "from scipy import stats\n",
    "\n",
    "from planckmc.track_generation import halo_model\n",
    "from planckmc.track_generation import make_tracks\n",
    "\n",
    "import matplotlib as mpl\n",
    "import matplotlib.cm as cm\n",
    "import matplotlib.pyplot as plt\n",
    "from matplotlib.colors import LogNorm, Normalize\n",
    "from mpl_toolkits.mplot3d import Axes3D\n",
    "import windchime as chime\n",
    "\n",
    "from numba import njit\n",
    "from tqdm import tqdm, trange"
   ]
  },
  {
   "cell_type": "code",
   "execution_count": 2,
   "metadata": {},
   "outputs": [],
   "source": [
    "'''\n",
    "Just initializes some constants.\n",
    "'''\n",
    "\n",
    "## universal constants - https://pdg.lbl.gov/2021/web/viewer.html?file=%2F2020/reviews/rpp2020-rev-phys-constants.pdf\n",
    "G = 6.64730e-11 #m^3/kg/s^2\n",
    "amu = 1.6605390666e-29 #kg\n",
    "k_B = 1.380649e-23 #J/K\n",
    "GeV_per_c2 = 1.7826619218835431593e-27\n",
    "mass_dm = 2.176434e-8 #kg https://en.wikipedia.org/wiki/Planck_units"
   ]
  },
  {
   "cell_type": "code",
   "execution_count": 3,
   "metadata": {},
   "outputs": [],
   "source": [
    "'''\n",
    "This is the detector initializer. It creates the cubic array to send the DM particles through.\n",
    "'''\n",
    "\n",
    "N_sensors_x = N_sensors_y = N_sensors_z = 101\n",
    "length_x = length_y = length_z = 10 #meter\n",
    "spacing = length_x/(N_sensors_x - 1)\n",
    "# This is the radius of the sphere that is used to parameterise tracks,\n",
    "# as every track is parameterised by two points on a sphere.\n",
    "# A radius that is smaller than the detector serves as a form of fiducialisation.\n",
    "radius = 5 #metre\n",
    "\n",
    "sensor_coords = np.zeros((3, N_sensors_x*N_sensors_y*N_sensors_z))\n",
    "coords_1d = (\n",
    "    np.linspace(-length_x/2, length_x/2, N_sensors_x),\n",
    "    np.linspace(-length_y/2, length_y/2, N_sensors_y),\n",
    "    np.linspace(-length_z/2, length_z/2, N_sensors_z),\n",
    ")\n",
    "\n",
    "x, y, z = np.meshgrid(*coords_1d, indexing='ij')\n",
    "\n",
    "sensor_coords[0,:] = x.ravel()\n",
    "sensor_coords[1,:] = y.ravel()\n",
    "sensor_coords[2,:] = z.ravel()\n",
    "\n",
    "sensor_vectors = np.repeat([[0,0,1]], sensor_coords.shape[1], axis=0).T #orientation vectors\n",
    "\n",
    "sensor_mass = 1e-3 #kg\n",
    "sensor_density = 1e4 #kg/m^3\n",
    "min_impact_parameter = (sensor_mass/sensor_density)**(1/3) #metres\n",
    "gas_pressure = 1e-10 #Pa\n",
    "\n",
    "A_d = (sensor_mass/sensor_density)**(2/3) #sensor cross sectional area\n",
    "beta = gas_pressure*A_d*np.sqrt(4*amu*k_B*4)/sensor_mass**2"
   ]
  },
  {
   "cell_type": "code",
   "execution_count": 4,
   "metadata": {},
   "outputs": [
    {
     "data": {
      "text/plain": [
       "' \\nOptional plot of the detector (not very useful for larger/denser arrays).\\nUncomment to get the plot.\\n'"
      ]
     },
     "execution_count": 4,
     "metadata": {},
     "output_type": "execute_result"
    }
   ],
   "source": [
    "''' \n",
    "Optional plot of the detector (not very useful for larger/denser arrays).\n",
    "Uncomment to get the plot.\n",
    "'''\n",
    "\n",
    "# fig = plt.figure(figsize=(8, 6), dpi=100, tight_layout=True)\n",
    "# ax = fig.add_subplot(111, projection='3d')\n",
    "# ax.scatter(sensor_coords[0,:], sensor_coords[1,:], sensor_coords[2,:], s=1)\n",
    "# plt.show()"
   ]
  },
  {
   "cell_type": "code",
   "execution_count": 5,
   "metadata": {},
   "outputs": [],
   "source": [
    "'''\n",
    "This creates a given number N of random tracks.\n",
    "'''\n",
    "\n",
    "N = 1000 #Number of tracks\n",
    "\n",
    "#generate array of velocities, sampled from the standard halo model\n",
    "vel = halo_model.generate_vel_array(n_vels=N)\n",
    "#generate \n",
    "entry_vecs, exit_vecs, t_entry, t_exit = make_tracks.generate_tracks(vel, np.zeros(vel.shape), radius=radius)"
   ]
  },
  {
   "cell_type": "markdown",
   "metadata": {},
   "source": [
    "### Plot/Asserts to check the vector math"
   ]
  },
  {
   "cell_type": "code",
   "execution_count": 6,
   "metadata": {},
   "outputs": [],
   "source": [
    "'''\n",
    "Assert statements to check for correct shapes of these arrays.\n",
    "'''\n",
    "\n",
    "assert entry_vecs.shape == (3, N)\n",
    "assert exit_vecs.shape == (3, N)\n",
    "assert t_entry.shape == (N,)\n",
    "assert t_exit.shape == (N,)"
   ]
  },
  {
   "cell_type": "code",
   "execution_count": 7,
   "metadata": {},
   "outputs": [
    {
     "data": {
      "application/vnd.jupyter.widget-view+json": {
       "model_id": "6df71d030a9c4572a7d990851e7e71dc",
       "version_major": 2,
       "version_minor": 0
      },
      "text/plain": [
       "Canvas(toolbar=Toolbar(toolitems=[('Home', 'Reset original view', 'home', 'home'), ('Back', 'Back to previous …"
      ]
     },
     "metadata": {},
     "output_type": "display_data"
    }
   ],
   "source": [
    "'''\n",
    "Plot the image of a track vector, a sensor, and the b-vector (impact parameter) between the track and the sensor\n",
    "'''\n",
    "#Creates an array for sensor position and basis vector of the track\n",
    "c = np.repeat(np.array([[0,0,.1]]),N,axis=0)\n",
    "d = chime.find_basis_vectors(c.T,entry_vecs,exit_vecs)\n",
    "\n",
    "#Checks shapes of the new arrays\n",
    "assert np.linalg.norm(d[2], axis=0).shape == (N,)\n",
    "assert np.repeat(np.array([[0,0,.1]]),N,axis=0).T.shape == (3, N)\n",
    "\n",
    "\n",
    "fig = plt.figure(figsize=(8, 7), dpi=120)\n",
    "ax = fig.add_subplot(111, projection='3d')\n",
    "\n",
    "ax.plot(*np.concatenate(([entry_vecs[:,0]], [exit_vecs[:,0]]), axis=0).T)\n",
    "ax.scatter(*c[0])\n",
    "ax.quiver(*c[0], *(d[2][:,0]), color='red')\n",
    "ax.quiver(*entry_vecs[:,0], *(d[1][:,0]), color='red', alpha=0.5)\n",
    "ax.set(xlim=[-2,2])\n",
    "plt.show()"
   ]
  },
  {
   "cell_type": "code",
   "execution_count": 8,
   "metadata": {},
   "outputs": [],
   "source": [
    "'''\n",
    "More asserts to check that the vector math is correct.\n",
    "'''\n",
    "\n",
    "\n",
    "assert np.dot(d[2][:,0],d[1][:,0]) < 1e-15\n",
    "\n",
    "sensor_orientation = np.repeat(np.array([[0,0,1]]),N,axis=0).T\n",
    "signal_test = chime.signal(\n",
    "    np.array([1]),\n",
    "    np.array([1]),\n",
    "    np.array([[0,0,1]]).T,\n",
    "    np.array([[0,0,1]]).T,\n",
    "    np.array([[0,0,1]]).T,\n",
    "    mass=1, min_impact_parameter=min_impact_parameter\n",
    ")\n",
    "\n",
    "assert np.abs(G**2*np.pi/2 - signal_test[0]) < 1e-15"
   ]
  },
  {
   "cell_type": "markdown",
   "metadata": {},
   "source": [
    "### Applying noise"
   ]
  },
  {
   "cell_type": "markdown",
   "metadata": {},
   "source": [
    "The $\\sigma_{noise}$ from [this note](https://github.com/windchimeproject/documentation_and_notes/blob/main/analysis_notes/Analytic_SNR_for_a_single_sensor.pdf) is related to $\\alpha$ from [Dan et. al.'s paper](https://arxiv.org/abs/1903.00492) in this way:\n",
    "\n",
    "$$m_{sensor}^2\\frac{\\sigma_{noise}^2}{\\Delta t} = \\alpha$$\n",
    "\n",
    "as such, we can try to recreate plots from Dan's papers without worrying about the noise bandwidth.\n",
    "\n",
    "below in the code, I will use the noise parameter $\\beta=\\frac{\\alpha}{m_{sensor}^2}$.\n",
    "\n",
    "From the above linked note where I calculated the SNR expression, it can be seen that the SNR with template matching is simply $\\sqrt{\\frac{S}{\\beta}}$.\n",
    "\n",
    "(Credit to Juehang Qin, 2021)"
   ]
  },
  {
   "cell_type": "code",
   "execution_count": 9,
   "metadata": {},
   "outputs": [
    {
     "data": {
      "text/plain": [
       "(7, 1000)"
      ]
     },
     "execution_count": 9,
     "metadata": {},
     "output_type": "execute_result"
    }
   ],
   "source": [
    "'''\n",
    "Some variable renaming and creation of 7xN array of track_parameters.\n",
    "'''\n",
    "\n",
    "velocity = vel\n",
    "position_entry = entry_vecs\n",
    "position_exit = exit_vecs\n",
    "\n",
    "track_parameters = np.vstack((velocity, position_entry, position_exit))\n",
    "track_parameters.shape"
   ]
  },
  {
   "cell_type": "code",
   "execution_count": 10,
   "metadata": {},
   "outputs": [
    {
     "data": {
      "text/plain": [
       "array([[-5. , -5. , -5. , ...,  5. ,  5. ,  5. ],\n",
       "       [-5. , -5. , -5. , ...,  5. ,  5. ,  5. ],\n",
       "       [-5. , -4.9, -4.8, ...,  4.8,  4.9,  5. ]])"
      ]
     },
     "execution_count": 10,
     "metadata": {},
     "output_type": "execute_result"
    }
   ],
   "source": [
    "\n",
    "sensor_positions = sensor_coords\n",
    "sensor_positions.shape\n",
    "sensor_positions"
   ]
  },
  {
   "cell_type": "code",
   "execution_count": 11,
   "metadata": {},
   "outputs": [
    {
     "data": {
      "text/plain": [
       "(1000, 7)"
      ]
     },
     "execution_count": 11,
     "metadata": {},
     "output_type": "execute_result"
    }
   ],
   "source": [
    "track_parameters.T.shape"
   ]
  },
  {
   "cell_type": "code",
   "execution_count": 67,
   "metadata": {},
   "outputs": [],
   "source": [
    "'''\n",
    "Number of bins/binsize to be used for the simulation\n",
    "'''\n",
    "NUMBER_OF_BINS = 2000 # many bins, can always reduce\n",
    "# np.log10(min_impact_parameter), np.log10(length_x)\n",
    "BINS_B = np.logspace(-10, np.log10(np.sqrt(3) * 2 * length_x), NUMBER_OF_BINS)\n",
    "BINS_SNR = np.linspace(0, 15, NUMBER_OF_BINS)\n",
    "\n",
    "def c(BINS):\n",
    "    # Compute bin centers\n",
    "    return 0.5*(BINS_SNR[1:] + BINS_SNR[:-1])\n",
    "         "
   ]
  },
  {
   "cell_type": "code",
   "execution_count": 13,
   "metadata": {},
   "outputs": [
    {
     "name": "stderr",
     "output_type": "stream",
     "text": [
      "100%|██████████| 1000/1000 [03:37<00:00,  4.61it/s]"
     ]
    },
    {
     "name": "stdout",
     "output_type": "stream",
     "text": [
      "[0. 0. 0. ... 0. 0. 0.] [0. 0. 0. ... 0. 0. 0.]\n"
     ]
    },
    {
     "name": "stderr",
     "output_type": "stream",
     "text": [
      "\n"
     ]
    }
   ],
   "source": [
    "SNRhist, bhist = chime.simulate(track_parameters, sensor_vectors, sensor_positions, beta, BINS_SNR, BINS_B, all_sensor_values=False)\n",
    "print(SNRhist, bhist)"
   ]
  },
  {
   "cell_type": "code",
   "execution_count": 57,
   "metadata": {},
   "outputs": [
    {
     "data": {
      "text/plain": [
       "(2000, 1999)"
      ]
     },
     "execution_count": 57,
     "metadata": {},
     "output_type": "execute_result"
    }
   ],
   "source": [
    "BINS_SNR.size, SNRhist.size"
   ]
  },
  {
   "cell_type": "code",
   "execution_count": 59,
   "metadata": {},
   "outputs": [
    {
     "data": {
      "text/plain": [
       "array([3.75187594e-03, 1.12556278e-02, 1.87593797e-02, ...,\n",
       "       1.49812406e+01, 1.49887444e+01, 1.49962481e+01])"
      ]
     },
     "execution_count": 59,
     "metadata": {},
     "output_type": "execute_result"
    }
   ],
   "source": []
  },
  {
   "cell_type": "code",
   "execution_count": 70,
   "metadata": {},
   "outputs": [
    {
     "data": {
      "image/png": "[encoded data removed]",
      "text/plain": [
       "<Figure size 432x288 with 1 Axes>"
      ]
     },
     "metadata": {
      "needs_background": "light"
     },
     "output_type": "display_data"
    }
   ],
   "source": [
    "%matplotlib inline\n",
    "plt.hist(c(BINS_SNR),\n",
    "         bins=100,\n",
    "         range=(0, 2.5),\n",
    "         weights=SNRhist)\n",
    "plt.show()"
   ]
  },
  {
   "cell_type": "markdown",
   "metadata": {},
   "source": [
    "### Sensitivity Curve Plotting"
   ]
  },
  {
   "cell_type": "code",
   "execution_count": 14,
   "metadata": {},
   "outputs": [],
   "source": [
    "def get_nonzero_xlim(data, bins):\n",
    "    # This function just identifies left and right\n",
    "    # bounds to suppress zero bins on either side.\n",
    "    return (bins[np.argmax(data > 0)],\n",
    "            bins[-1*np.argmax(np.flip(data) > 0)])"
   ]
  },
  {
   "cell_type": "code",
   "execution_count": 65,
   "metadata": {},
   "outputs": [
    {
     "data": {
      "image/png": "[encoded data removed]",
      "text/plain": [
       "<Figure size 432x288 with 1 Axes>"
      ]
     },
     "metadata": {
      "needs_background": "light"
     },
     "output_type": "display_data"
    }
   ],
   "source": [
    "'''\n",
    "PLots the minimum impact parameters for each track as a histogram normalized over the number of tracks\n",
    "'''\n",
    "\n",
    "fig, ax = plt.subplots()\n",
    "ax.bar(BINS_B[:-1],\n",
    "       bhist,\n",
    "       width=np.diff(BINS_B),\n",
    "       align=\"edge\")\n",
    "\n",
    "plt.loglog()\n",
    "plt.axvline(spacing, label='$s$', color='red')\n",
    "plt.axvline(length_x, label='$L$', color='black')\n",
    "plt.legend()\n",
    "plt.xlabel('Mininum_impact_parameter $b$ [m]')\n",
    "plt.ylabel('Normalized histogram bin height (probability density)')\n",
    "plt.axhline(1e-2, color='yellow', ls='--')\n",
    "plt.text(0.05, 0.35, f'Lattice side $L$ = {length_x} m\\nSpacing $s$ = {spacing:0.3f} m\\nImpact parameter $b$\\n{N_sensors_x}${{}}^3$ sensors\\n{N} random tracks', transform=ax.transAxes)\n",
    "plt.xlim(*get_nonzero_xlim(bhist, BINS_B))\n",
    "_= plt.show()"
   ]
  },
  {
   "cell_type": "raw",
   "metadata": {},
   "source": [
    "Rebinning note: position and weight (x_i, w_i)\n",
    "                [bin center_i, bin center_i, bin_center_i, etc...] done w_i times"
   ]
  },
  {
   "cell_type": "code",
   "execution_count": 16,
   "metadata": {},
   "outputs": [
    {
     "data": {
      "application/vnd.jupyter.widget-view+json": {
       "model_id": "7c6622f06beb4c6686ac64214b027c84",
       "version_major": 2,
       "version_minor": 0
      },
      "text/plain": [
       "Canvas(toolbar=Toolbar(toolitems=[('Home', 'Reset original view', 'home', 'home'), ('Back', 'Back to previous …"
      ]
     },
     "metadata": {},
     "output_type": "display_data"
    }
   ],
   "source": [
    "'''\n",
    "Plots the SNRs of each track as a histogram normalized over the number of tracks\n",
    "'''\n",
    "\n",
    "\n",
    "fig, ax = plt.subplots()\n",
    "ax.bar(BINS_SNR[:-1],\n",
    "       SNRhist,\n",
    "       width=np.diff(BINS_SNR),\n",
    "       align=\"edge\")\n",
    "\n",
    "plt.semilogy()\n",
    "plt.xlabel('Signal $S$ $[N \\cdot s]$')\n",
    "plt.ylabel('Normalized histogram bin height (probability density)')\n",
    "plt.axhline(1e-2, color='yellow', ls='--')\n",
    "plt.xlim(*get_nonzero_xlim(SNRhist, BINS_SNR))\n",
    "_= plt.show()"
   ]
  },
  {
   "cell_type": "code",
   "execution_count": 17,
   "metadata": {},
   "outputs": [
    {
     "name": "stderr",
     "output_type": "stream",
     "text": [
      "100%|██████████| 1000/1000 [06:29<00:00,  2.57it/s]\n"
     ]
    }
   ],
   "source": [
    "'''\n",
    "Runs the simulate() function to return all SNRs and impact parameters for each sensor on each track\n",
    "'''\n",
    "\n",
    "individual_snrs, individual_b, signal_array = chime.simulate(track_parameters, sensor_vectors, sensor_positions, beta, bins_snr=BINS_SNR, bins_b=BINS_B, all_sensor_values = True)"
   ]
  },
  {
   "cell_type": "code",
   "execution_count": 18,
   "metadata": {},
   "outputs": [
    {
     "data": {
      "text/plain": [
       "1030100.554"
      ]
     },
     "execution_count": 18,
     "metadata": {},
     "output_type": "execute_result"
    }
   ],
   "source": [
    "np.max(individual_snrs)"
   ]
  },
  {
   "cell_type": "code",
   "execution_count": 19,
   "metadata": {},
   "outputs": [
    {
     "data": {
      "text/plain": [
       "(1999,)"
      ]
     },
     "execution_count": 19,
     "metadata": {},
     "output_type": "execute_result"
    }
   ],
   "source": [
    "individual_snrs.shape"
   ]
  },
  {
   "cell_type": "code",
   "execution_count": 20,
   "metadata": {},
   "outputs": [
    {
     "name": "stdout",
     "output_type": "stream",
     "text": [
      "[1.03010055e+06 1.21246000e+02 3.30880000e+01 ... 0.00000000e+00\n",
      " 0.00000000e+00 0.00000000e+00]\n"
     ]
    }
   ],
   "source": [
    "print(individual_snrs)"
   ]
  },
  {
   "cell_type": "code",
   "execution_count": 21,
   "metadata": {},
   "outputs": [
    {
     "data": {
      "text/plain": [
       "(1030301, 1000)"
      ]
     },
     "execution_count": 21,
     "metadata": {},
     "output_type": "execute_result"
    }
   ],
   "source": [
    "signal_array.shape"
   ]
  },
  {
   "cell_type": "code",
   "execution_count": 22,
   "metadata": {},
   "outputs": [],
   "source": [
    "'''\n",
    "Asserts here check for correct shape\n",
    "'''\n",
    "assert signal_array.shape == (N_sensors_x**3, N)"
   ]
  },
  {
   "cell_type": "code",
   "execution_count": 23,
   "metadata": {},
   "outputs": [
    {
     "name": "stderr",
     "output_type": "stream",
     "text": [
      "100%|██████████| 1000/1000 [03:11<00:00,  5.23it/s]\n"
     ]
    }
   ],
   "source": [
    "'''\n",
    "Searches for when 3 sensors contain the majority of the signal\n",
    "'''\n",
    "\n",
    "best_3_contribution = []\n",
    "best_N_contribution = []\n",
    "\n",
    "for i in trange(N):\n",
    "    sorted_indices = np.argsort(signal_array[:,i])\n",
    "    best_3_contribution.append(np.sum(signal_array[:,i][sorted_indices[-3:]])/np.sum(signal_array[:,i]))\n",
    "    best_N_contribution.append(np.sum(signal_array[:,i][sorted_indices[-N_sensors_x:]])/np.sum(signal_array[:,i]))"
   ]
  },
  {
   "cell_type": "code",
   "execution_count": 49,
   "metadata": {},
   "outputs": [
    {
     "data": {
      "application/vnd.jupyter.widget-view+json": {
       "model_id": "66d7bbc2249948638799bae0da92394d",
       "version_major": 2,
       "version_minor": 0
      },
      "text/plain": [
       "Canvas(toolbar=Toolbar(toolitems=[('Home', 'Reset original view', 'home', 'home'), ('Back', 'Back to previous …"
      ]
     },
     "metadata": {},
     "output_type": "display_data"
    }
   ],
   "source": [
    "fig, ax = plt.subplots()\n",
    "ax.bar(BINS_B[:-1],\n",
    "       individual_b,\n",
    "       width=np.diff(BINS_B),\n",
    "       align=\"edge\")\n",
    "\n",
    "plt.loglog()\n",
    "plt.xlabel('Impact parameter B')\n",
    "plt.ylabel('Normalized histogram bin height (probability density)')\n",
    "plt.axvline(spacing, label = '$s$', color= 'black')\n",
    "plt.axvline(length_x, label = '$L$', color='red')\n",
    "plt.axhline(1, color = 'yellow', ls = '--')\n",
    "plt.legend()\n",
    "plt.xlim(*get_nonzero_xlim(individual_b, BINS_B))\n",
    "_= plt.show()"
   ]
  },
  {
   "cell_type": "code",
   "execution_count": 45,
   "metadata": {},
   "outputs": [
    {
     "data": {
      "application/vnd.jupyter.widget-view+json": {
       "model_id": "a46e0a090d444fdcaf8c7d23c81d21c0",
       "version_major": 2,
       "version_minor": 0
      },
      "text/plain": [
       "Canvas(toolbar=Toolbar(toolitems=[('Home', 'Reset original view', 'home', 'home'), ('Back', 'Back to previous …"
      ]
     },
     "metadata": {},
     "output_type": "display_data"
    }
   ],
   "source": [
    "'''\n",
    "Plots the SNRs of each track as a histogram normalized over the number of tracks\n",
    "'''\n",
    "\n",
    "\n",
    "fig, ax = plt.subplots()\n",
    "ax.bar(BINS_SNR[:-1],\n",
    "       individual_snrs,\n",
    "       width=np.diff(BINS_SNR),\n",
    "       align=\"edge\")\n",
    "\n",
    "plt.semilogy()\n",
    "plt.xlabel('SNR')\n",
    "plt.ylabel('Normalized histogram bin height (probability density)')\n",
    "plt.axhline(1e-2, color='yellow', ls='--')\n",
    "plt.xlim(*get_nonzero_xlim(individual_snrs, BINS_SNR))\n",
    "_= plt.show()"
   ]
  },
  {
   "cell_type": "code",
   "execution_count": 26,
   "metadata": {},
   "outputs": [
    {
     "data": {
      "application/vnd.jupyter.widget-view+json": {
       "model_id": "60f43c59d0b842d8995dd961310e7b62",
       "version_major": 2,
       "version_minor": 0
      },
      "text/plain": [
       "Canvas(toolbar=Toolbar(toolitems=[('Home', 'Reset original view', 'home', 'home'), ('Back', 'Back to previous …"
      ]
     },
     "metadata": {},
     "output_type": "display_data"
    }
   ],
   "source": [
    "'''\n",
    "Plot fraction of tracks where 3 sensors see the highest signal\n",
    "'''\n",
    "\n",
    "fig = plt.figure(figsize=(8, 7), dpi=120)\n",
    "ax = fig.add_subplot(111)\n",
    "ax.hist(best_3_contribution, density=True, bins=np.linspace(0,1,21))\n",
    "ax.set(xlabel='fraction', ylabel='Normalised histogram bin height (probability density)', title='fraction of track S belonging to the 3 sensors seeing the highest S (integrated acceleration)')\n",
    "plt.show()"
   ]
  },
  {
   "cell_type": "code",
   "execution_count": 27,
   "metadata": {},
   "outputs": [
    {
     "data": {
      "application/vnd.jupyter.widget-view+json": {
       "model_id": "9e9c19d584334325b0d927d3b1862189",
       "version_major": 2,
       "version_minor": 0
      },
      "text/plain": [
       "Canvas(toolbar=Toolbar(toolitems=[('Home', 'Reset original view', 'home', 'home'), ('Back', 'Back to previous …"
      ]
     },
     "metadata": {},
     "output_type": "display_data"
    }
   ],
   "source": [
    "'''\n",
    "Plot fraction of tracks where N_sensors_x see the highest signal\n",
    "'''\n",
    "\n",
    "fig = plt.figure(figsize=(8, 7), dpi=120)\n",
    "ax = fig.add_subplot(111)\n",
    "ax.hist(best_N_contribution, density=True, bins=np.linspace(0,1,21))\n",
    "ax.set(xlabel='fraction', ylabel='Normalised histogram bin height (probability density)', title=f'fraction of track S belonging to the {N_sensors_x} sensors seeing the highest S (integrated acceleration)')\n",
    "plt.show()"
   ]
  },
  {
   "cell_type": "code",
   "execution_count": 28,
   "metadata": {},
   "outputs": [],
   "source": [
    "'''\n",
    "Dark matter velocity and density constants as well as the expected # of events per year in detector\n",
    "'''\n",
    "\n",
    "v_dm = 220e3 #m/s\n",
    "rho_dm = 0.3*GeV_per_c2*(100**3) #kg/m^3"
   ]
  },
  {
   "cell_type": "code",
   "execution_count": 29,
   "metadata": {},
   "outputs": [],
   "source": [
    "'''\n",
    "Gets the noise PSD for each track\n",
    "'''\n",
    "\n",
    "T_arr_edges = np.logspace(-3, 1, 51)\n",
    "T_arr = T_arr_edges[:-1] + np.diff(T_arr_edges)/2\n",
    "beta_arr = chime.beta_func(T=T_arr)"
   ]
  },
  {
   "cell_type": "code",
   "execution_count": 30,
   "metadata": {},
   "outputs": [],
   "source": [
    "'''\n",
    "Gives expected rate through radius\n",
    "'''\n",
    "\n",
    "expected_rate_through_radius = rho_dm*v_dm/mass_dm*3600*24*365*np.pi*radius**2 #events per year"
   ]
  },
  {
   "cell_type": "code",
   "execution_count": 31,
   "metadata": {},
   "outputs": [
    {
     "name": "stderr",
     "output_type": "stream",
     "text": [
      "100%|██████████| 50/50 [00:54<00:00,  1.10s/it]\n"
     ]
    }
   ],
   "source": [
    "'''\n",
    "Calculates noise and which signals gave a >6 SNR treshold\n",
    "'''\n",
    "\n",
    "SNR_threshold = 6\n",
    "pdf_parameters = np.zeros((len(beta_arr), 2))\n",
    "for i,b in enumerate(tqdm(beta_arr)):\n",
    "    SNRs = chime.SNRs_from_S_and_beta(signal_array, b)\n",
    "    detected = np.sum(SNRs > SNR_threshold)\n",
    "    pdf_parameters[i] = (detected+0.5, N+0.5-detected)"
   ]
  },
  {
   "cell_type": "code",
   "execution_count": 32,
   "metadata": {},
   "outputs": [
    {
     "name": "stderr",
     "output_type": "stream",
     "text": [
      "100%|██████████| 50/50 [00:33<00:00,  1.51it/s]\n"
     ]
    }
   ],
   "source": [
    "'''\n",
    "Uses many density multipliers to see how they would change the likelihood of detection\n",
    "'''\n",
    "\n",
    "multipliers_edges = np.linspace(0.5,5,151)\n",
    "multipliers = np.linspace(0.5,5,151)\n",
    "\n",
    "fraction_with_detections = np.zeros((len(beta_arr), len(multipliers)))\n",
    "trials=10000\n",
    "\n",
    "for i in trange(len(beta_arr)):\n",
    "    for j,mult in enumerate(multipliers):\n",
    "        detected_particles = chime.toy_MC_poisson_detection(expected_rate_through_radius*mult, pdf_parameters[i], trials=trials)\n",
    "        fraction_with_detections[i,j] = np.sum(detected_particles > 0)/trials"
   ]
  },
  {
   "cell_type": "code",
   "execution_count": 72,
   "metadata": {},
   "outputs": [
    {
     "ename": "TypeError",
     "evalue": "Dimensions of C (30, 30) are incompatible with X (151) and/or Y (31); see help(pcolormesh)",
     "output_type": "error",
     "traceback": [
      "\u001b[0;31m---------------------------------------------------------------------------\u001b[0m",
      "\u001b[0;31mTypeError\u001b[0m                                 Traceback (most recent call last)",
      "\u001b[0;32m<ipython-input-72-d6986a2a009f>\u001b[0m in \u001b[0;36m<module>\u001b[0;34m\u001b[0m\n\u001b[1;32m     10\u001b[0m \u001b[0mfig\u001b[0m \u001b[0;34m=\u001b[0m \u001b[0mplt\u001b[0m\u001b[0;34m.\u001b[0m\u001b[0mfigure\u001b[0m\u001b[0;34m(\u001b[0m\u001b[0mfigsize\u001b[0m\u001b[0;34m=\u001b[0m\u001b[0;34m(\u001b[0m\u001b[0;36m8\u001b[0m\u001b[0;34m,\u001b[0m \u001b[0;36m7\u001b[0m\u001b[0;34m)\u001b[0m\u001b[0;34m,\u001b[0m \u001b[0mdpi\u001b[0m\u001b[0;34m=\u001b[0m\u001b[0;36m120\u001b[0m\u001b[0;34m)\u001b[0m\u001b[0;34m\u001b[0m\u001b[0;34m\u001b[0m\u001b[0m\n\u001b[1;32m     11\u001b[0m \u001b[0max\u001b[0m \u001b[0;34m=\u001b[0m \u001b[0mfig\u001b[0m\u001b[0;34m.\u001b[0m\u001b[0madd_subplot\u001b[0m\u001b[0;34m(\u001b[0m\u001b[0;36m111\u001b[0m\u001b[0;34m)\u001b[0m\u001b[0;34m\u001b[0m\u001b[0;34m\u001b[0m\u001b[0m\n\u001b[0;32m---> 12\u001b[0;31m \u001b[0ms\u001b[0m \u001b[0;34m=\u001b[0m \u001b[0max\u001b[0m\u001b[0;34m.\u001b[0m\u001b[0mpcolormesh\u001b[0m\u001b[0;34m(\u001b[0m\u001b[0mX\u001b[0m\u001b[0;34m,\u001b[0m \u001b[0mY\u001b[0m\u001b[0;34m,\u001b[0m \u001b[0mfraction_with_detections\u001b[0m\u001b[0;34m,\u001b[0m \u001b[0mcmap\u001b[0m\u001b[0;34m=\u001b[0m\u001b[0mcmap\u001b[0m\u001b[0;34m)\u001b[0m\u001b[0;34m\u001b[0m\u001b[0;34m\u001b[0m\u001b[0m\n\u001b[0m\u001b[1;32m     13\u001b[0m \u001b[0mc\u001b[0m \u001b[0;34m=\u001b[0m \u001b[0max\u001b[0m\u001b[0;34m.\u001b[0m\u001b[0mcontour\u001b[0m\u001b[0;34m(\u001b[0m\u001b[0mX_points\u001b[0m\u001b[0;34m,\u001b[0m \u001b[0mY_points\u001b[0m\u001b[0;34m,\u001b[0m \u001b[0mfraction_with_detections\u001b[0m\u001b[0;34m,\u001b[0m \u001b[0;34m[\u001b[0m\u001b[0;36m0.9\u001b[0m\u001b[0;34m]\u001b[0m\u001b[0;34m)\u001b[0m\u001b[0;34m\u001b[0m\u001b[0;34m\u001b[0m\u001b[0m\n\u001b[1;32m     14\u001b[0m \u001b[0max\u001b[0m\u001b[0;34m.\u001b[0m\u001b[0mclabel\u001b[0m\u001b[0;34m(\u001b[0m\u001b[0mc\u001b[0m\u001b[0;34m,\u001b[0m \u001b[0mc\u001b[0m\u001b[0;34m.\u001b[0m\u001b[0mlevels\u001b[0m\u001b[0;34m,\u001b[0m \u001b[0minline\u001b[0m\u001b[0;34m=\u001b[0m\u001b[0;32mTrue\u001b[0m\u001b[0;34m,\u001b[0m \u001b[0mfmt\u001b[0m\u001b[0;34m=\u001b[0m\u001b[0;34m{\u001b[0m\u001b[0mc\u001b[0m\u001b[0;34m.\u001b[0m\u001b[0mlevels\u001b[0m\u001b[0;34m[\u001b[0m\u001b[0;36m0\u001b[0m\u001b[0;34m]\u001b[0m\u001b[0;34m:\u001b[0m \u001b[0;34m'90% CL sensitivity'\u001b[0m\u001b[0;34m}\u001b[0m\u001b[0;34m,\u001b[0m\u001b[0;34m)\u001b[0m\u001b[0;34m\u001b[0m\u001b[0;34m\u001b[0m\u001b[0m\n",
      "\u001b[0;32m~/.local/lib/python3.8/site-packages/matplotlib/__init__.py\u001b[0m in \u001b[0;36minner\u001b[0;34m(ax, data, *args, **kwargs)\u001b[0m\n\u001b[1;32m   1359\u001b[0m     \u001b[0;32mdef\u001b[0m \u001b[0minner\u001b[0m\u001b[0;34m(\u001b[0m\u001b[0max\u001b[0m\u001b[0;34m,\u001b[0m \u001b[0;34m*\u001b[0m\u001b[0margs\u001b[0m\u001b[0;34m,\u001b[0m \u001b[0mdata\u001b[0m\u001b[0;34m=\u001b[0m\u001b[0;32mNone\u001b[0m\u001b[0;34m,\u001b[0m \u001b[0;34m**\u001b[0m\u001b[0mkwargs\u001b[0m\u001b[0;34m)\u001b[0m\u001b[0;34m:\u001b[0m\u001b[0;34m\u001b[0m\u001b[0;34m\u001b[0m\u001b[0m\n\u001b[1;32m   1360\u001b[0m         \u001b[0;32mif\u001b[0m \u001b[0mdata\u001b[0m \u001b[0;32mis\u001b[0m \u001b[0;32mNone\u001b[0m\u001b[0;34m:\u001b[0m\u001b[0;34m\u001b[0m\u001b[0;34m\u001b[0m\u001b[0m\n\u001b[0;32m-> 1361\u001b[0;31m             \u001b[0;32mreturn\u001b[0m \u001b[0mfunc\u001b[0m\u001b[0;34m(\u001b[0m\u001b[0max\u001b[0m\u001b[0;34m,\u001b[0m \u001b[0;34m*\u001b[0m\u001b[0mmap\u001b[0m\u001b[0;34m(\u001b[0m\u001b[0msanitize_sequence\u001b[0m\u001b[0;34m,\u001b[0m \u001b[0margs\u001b[0m\u001b[0;34m)\u001b[0m\u001b[0;34m,\u001b[0m \u001b[0;34m**\u001b[0m\u001b[0mkwargs\u001b[0m\u001b[0;34m)\u001b[0m\u001b[0;34m\u001b[0m\u001b[0;34m\u001b[0m\u001b[0m\n\u001b[0m\u001b[1;32m   1362\u001b[0m \u001b[0;34m\u001b[0m\u001b[0m\n\u001b[1;32m   1363\u001b[0m         \u001b[0mbound\u001b[0m \u001b[0;34m=\u001b[0m \u001b[0mnew_sig\u001b[0m\u001b[0;34m.\u001b[0m\u001b[0mbind\u001b[0m\u001b[0;34m(\u001b[0m\u001b[0max\u001b[0m\u001b[0;34m,\u001b[0m \u001b[0;34m*\u001b[0m\u001b[0margs\u001b[0m\u001b[0;34m,\u001b[0m \u001b[0;34m**\u001b[0m\u001b[0mkwargs\u001b[0m\u001b[0;34m)\u001b[0m\u001b[0;34m\u001b[0m\u001b[0;34m\u001b[0m\u001b[0m\n",
      "\u001b[0;32m~/.local/lib/python3.8/site-packages/matplotlib/axes/_axes.py\u001b[0m in \u001b[0;36mpcolormesh\u001b[0;34m(self, alpha, norm, cmap, vmin, vmax, shading, antialiased, *args, **kwargs)\u001b[0m\n\u001b[1;32m   6181\u001b[0m         \u001b[0mkwargs\u001b[0m\u001b[0;34m.\u001b[0m\u001b[0msetdefault\u001b[0m\u001b[0;34m(\u001b[0m\u001b[0;34m'edgecolors'\u001b[0m\u001b[0;34m,\u001b[0m \u001b[0;34m'none'\u001b[0m\u001b[0;34m)\u001b[0m\u001b[0;34m\u001b[0m\u001b[0;34m\u001b[0m\u001b[0m\n\u001b[1;32m   6182\u001b[0m \u001b[0;34m\u001b[0m\u001b[0m\n\u001b[0;32m-> 6183\u001b[0;31m         X, Y, C, shading = self._pcolorargs('pcolormesh', *args,\n\u001b[0m\u001b[1;32m   6184\u001b[0m                                             shading=shading, kwargs=kwargs)\n\u001b[1;32m   6185\u001b[0m         \u001b[0mNy\u001b[0m\u001b[0;34m,\u001b[0m \u001b[0mNx\u001b[0m \u001b[0;34m=\u001b[0m \u001b[0mX\u001b[0m\u001b[0;34m.\u001b[0m\u001b[0mshape\u001b[0m\u001b[0;34m\u001b[0m\u001b[0;34m\u001b[0m\u001b[0m\n",
      "\u001b[0;32m~/.local/lib/python3.8/site-packages/matplotlib/axes/_axes.py\u001b[0m in \u001b[0;36m_pcolorargs\u001b[0;34m(self, funcname, shading, *args, **kwargs)\u001b[0m\n\u001b[1;32m   5695\u001b[0m         \u001b[0;32mif\u001b[0m \u001b[0mshading\u001b[0m \u001b[0;34m==\u001b[0m \u001b[0;34m'flat'\u001b[0m\u001b[0;34m:\u001b[0m\u001b[0;34m\u001b[0m\u001b[0;34m\u001b[0m\u001b[0m\n\u001b[1;32m   5696\u001b[0m             \u001b[0;32mif\u001b[0m \u001b[0;32mnot\u001b[0m \u001b[0;34m(\u001b[0m\u001b[0mncols\u001b[0m \u001b[0;32min\u001b[0m \u001b[0;34m(\u001b[0m\u001b[0mNx\u001b[0m\u001b[0;34m,\u001b[0m \u001b[0mNx\u001b[0m \u001b[0;34m-\u001b[0m \u001b[0;36m1\u001b[0m\u001b[0;34m)\u001b[0m \u001b[0;32mand\u001b[0m \u001b[0mnrows\u001b[0m \u001b[0;32min\u001b[0m \u001b[0;34m(\u001b[0m\u001b[0mNy\u001b[0m\u001b[0;34m,\u001b[0m \u001b[0mNy\u001b[0m \u001b[0;34m-\u001b[0m \u001b[0;36m1\u001b[0m\u001b[0;34m)\u001b[0m\u001b[0;34m)\u001b[0m\u001b[0;34m:\u001b[0m\u001b[0;34m\u001b[0m\u001b[0;34m\u001b[0m\u001b[0m\n\u001b[0;32m-> 5697\u001b[0;31m                 raise TypeError('Dimensions of C %s are incompatible with'\n\u001b[0m\u001b[1;32m   5698\u001b[0m                                 ' X (%d) and/or Y (%d); see help(%s)' % (\n\u001b[1;32m   5699\u001b[0m                                     C.shape, Nx, Ny, funcname))\n",
      "\u001b[0;31mTypeError\u001b[0m: Dimensions of C (30, 30) are incompatible with X (151) and/or Y (31); see help(pcolormesh)"
     ]
    },
    {
     "data": {
      "image/png": "[encoded data removed]",
      "text/plain": [
       "<Figure size 960x840 with 1 Axes>"
      ]
     },
     "metadata": {
      "needs_background": "light"
     },
     "output_type": "display_data"
    }
   ],
   "source": [
    "'''\n",
    "Plots the fraction of toyMC experiemnts that detected dark matter as a 2D histogram of the temperature and DM density multiplier\n",
    "'''\n",
    "\n",
    "T_violin = 2e-3\n",
    "\n",
    "X,Y = np.meshgrid(T_arr_edges, multipliers_edges, indexing='ij')\n",
    "X_points,Y_points = np.meshgrid(T_arr, multipliers, indexing='ij')\n",
    "cmap = cm.get_cmap('magma')\n",
    "fig = plt.figure(figsize=(8, 7), dpi=120)\n",
    "ax = fig.add_subplot(111)\n",
    "s = ax.pcolormesh(X, Y, fraction_with_detections, cmap=cmap)\n",
    "c = ax.contour(X_points, Y_points, fraction_with_detections, [0.9])\n",
    "ax.clabel(c, c.levels, inline=True, fmt={c.levels[0]: '90% CL sensitivity'},)\n",
    "ax.scatter([T_violin], [1], label='violin plot point')\n",
    "cb = plt.colorbar(s)\n",
    "cb.set_label('fraction of toyMC experiments that detected dark matter')\n",
    "ax.set(xlabel='detector temperature (K)', ylabel='DM density multiplier', xscale='log')\n",
    "plt.show()"
   ]
  },
  {
   "cell_type": "markdown",
   "metadata": {},
   "source": [
    "--------------"
   ]
  },
  {
   "cell_type": "code",
   "execution_count": 34,
   "metadata": {},
   "outputs": [],
   "source": [
    "b = chime.beta_func(T=T_violin)\n",
    "SNRs = chime.SNRs_from_S_and_beta(signal_array, b)\n",
    "detected_bool = SNRs >= SNR_threshold\n",
    "\n",
    "detected_tracks_sensor_SNR = np.sqrt(signal_array[:, detected_bool]/b)\n",
    "detected_tracks_sensor_SNR_sorted_indices = np.argsort(detected_tracks_sensor_SNR, axis=0)"
   ]
  },
  {
   "cell_type": "code",
   "execution_count": 35,
   "metadata": {},
   "outputs": [
    {
     "name": "stderr",
     "output_type": "stream",
     "text": [
      "100%|██████████| 250/250 [00:00<00:00, 125532.86it/s]\n"
     ]
    }
   ],
   "source": [
    "best_N_sensors_to_plot = 5\n",
    "\n",
    "detected_tracks = np.sum(detected_bool)\n",
    "SNRs_for_best_N_sensors = np.zeros((best_N_sensors_to_plot, detected_tracks))\n",
    "\n",
    "for i in trange(detected_tracks):\n",
    "    indices_to_select = detected_tracks_sensor_SNR_sorted_indices[-1:-best_N_sensors_to_plot-1:-1,i]\n",
    "    SNRs_for_best_N_sensors[:, i] = detected_tracks_sensor_SNR[indices_to_select, i]"
   ]
  },
  {
   "cell_type": "code",
   "execution_count": 36,
   "metadata": {},
   "outputs": [
    {
     "data": {
      "application/vnd.jupyter.widget-view+json": {
       "model_id": "788f3d506eef4c3f9d110f1e1662a0c9",
       "version_major": 2,
       "version_minor": 0
      },
      "text/plain": [
       "Canvas(toolbar=Toolbar(toolitems=[('Home', 'Reset original view', 'home', 'home'), ('Back', 'Back to previous …"
      ]
     },
     "metadata": {},
     "output_type": "display_data"
    },
    {
     "name": "stdout",
     "output_type": "stream",
     "text": [
      "Plot of the SNRs of the 5 brightest sensors. The red horizontal line indicates the median, and the blue horizontal lines indicate the 1-sigma bounds and the extremal values. The shaded regions represent the probability density functions of the SNR distributions.\n"
     ]
    }
   ],
   "source": [
    "\n",
    "fig = plt.figure(figsize=(4, 4), dpi=150)\n",
    "ax = fig.add_subplot(111)\n",
    "\n",
    "# violin_dict = ax.violinplot(\n",
    "#     SNRs_for_best_N_sensors.T, \n",
    "#     quantiles=np.repeat(stats.norm.cdf([[-1,1]]), best_N_sensors_to_plot, axis=0).T,\n",
    "#     showmedians=True)\n",
    "\n",
    "violin_dict = ax.violinplot(\n",
    "    SNRs_for_best_N_sensors.T, positions=None, vert=True, widths=0.5, showmeans=False, showextrema=True, showmedians=True,\n",
    "    quantiles=np.repeat(stats.norm.cdf([[-1,1]]), best_N_sensors_to_plot, axis=0).T)\n",
    "\n",
    "violin_dict['cmedians'].set_linewidth(2)\n",
    "violin_dict['cmedians'].set_color('r')\n",
    "\n",
    "ax.set(xlabel='sensor with Nth highest signal', ylabel='single sensor SNR', )\n",
    "plt.show()\n",
    "\n",
    "\n",
    "print('Plot of the SNRs of the 5 brightest sensors. The red horizontal line indicates the median, and the blue horizontal lines indicate the 1-sigma bounds and the extremal values. The shaded regions represent the probability density functions of the SNR distributions.')"
   ]
  },
  {
   "cell_type": "raw",
   "metadata": {},
   "source": [
    "up binning to where bins only have 1 "
   ]
  },
  {
   "cell_type": "markdown",
   "metadata": {},
   "source": [
    "----------------"
   ]
  },
  {
   "cell_type": "code",
   "execution_count": 37,
   "metadata": {},
   "outputs": [],
   "source": [
    "dm_masses_gev_edges = np.logspace(18.5,21,31)\n",
    "dm_masses_gev = dm_masses_gev_edges[:-1] + np.diff(dm_masses_gev_edges)/2\n",
    "dm_masses_SI = dm_masses_gev*GeV_per_c2\n",
    "dm_rates = chime.dm_events_per_year(mass_dm=dm_masses_SI)"
   ]
  },
  {
   "cell_type": "code",
   "execution_count": 38,
   "metadata": {},
   "outputs": [
    {
     "name": "stderr",
     "output_type": "stream",
     "text": [
      "100%|██████████| 30/30 [54:57<00:00, 109.92s/it]\n"
     ]
    }
   ],
   "source": [
    "T_arr_edges = np.logspace(-3, 0, 31)\n",
    "T_arr = T_arr_edges[:-1] + np.diff(T_arr_edges)/2\n",
    "beta_arr = chime.beta_func(T=T_arr)\n",
    "\n",
    "SNR_threshold = 6\n",
    "pdf_parameters = np.zeros((len(beta_arr), 2))\n",
    "\n",
    "fraction_with_detections = np.zeros((len(beta_arr), len(dm_masses_SI)))\n",
    "\n",
    "for i,b in enumerate(tqdm(beta_arr)):\n",
    "    for j,dm_mass_thisloop in enumerate(dm_masses_SI):\n",
    "        signal_mult = (dm_mass_thisloop/mass_dm)**2\n",
    "        SNRs = chime.SNRs_from_S_and_beta(signal_array*signal_mult, b)\n",
    "        detected = np.sum(SNRs >= SNR_threshold)\n",
    "        pdf_parameters = (detected+0.5, N+0.5-detected)\n",
    "        \n",
    "        detected_particles = chime.toy_MC_poisson_detection(dm_rates[j], pdf_parameters, trials=trials)\n",
    "        fraction_with_detections[i,j] = np.sum(detected_particles > 0)/trials"
   ]
  },
  {
   "cell_type": "code",
   "execution_count": 39,
   "metadata": {},
   "outputs": [
    {
     "data": {
      "application/vnd.jupyter.widget-view+json": {
       "model_id": "edbd40a9ab11489f98ca73b44ead88d4",
       "version_major": 2,
       "version_minor": 0
      },
      "text/plain": [
       "Canvas(toolbar=Toolbar(toolitems=[('Home', 'Reset original view', 'home', 'home'), ('Back', 'Back to previous …"
      ]
     },
     "metadata": {},
     "output_type": "display_data"
    },
    {
     "name": "stdout",
     "output_type": "stream",
     "text": [
      "Sensitivity of the windchime experiment with a $101^3$ sensor array with 1 g test masses and 10 metre sides, as a function of temperature to various dark matter masses. This corresponds to an exposure of 1 year.\n"
     ]
    }
   ],
   "source": [
    "X,Y = np.meshgrid(dm_masses_gev_edges, T_arr_edges, indexing='ij')\n",
    "X_points,Y_points = np.meshgrid(dm_masses_gev, T_arr, indexing='ij')\n",
    "cmap = cm.get_cmap('magma')\n",
    "fig = plt.figure(figsize=(5, 5), dpi=150)\n",
    "ax = fig.add_subplot(111)\n",
    "s = ax.pcolormesh(X, Y, fraction_with_detections.T, cmap=cmap)\n",
    "c = ax.contour(X_points, Y_points, fraction_with_detections.T, [0.9], colors='#007700')\n",
    "ax.text(0.8e20, 2e-3, '90% CL sensitivity', rotation=90, color='#007700')\n",
    "\n",
    "cb = plt.colorbar(s)\n",
    "cb.set_label('fraction of toyMC experiments that detected dark matter')\n",
    "\n",
    "ax.vlines([1.22e19], ymin=T_arr_edges[0], ymax=T_arr_edges[-1], color='#0088AA', linestyle='--')\n",
    "ax.text(1.45e19, 1e-1, 'Planck mass', rotation=90, color='#0088AA')\n",
    "\n",
    "ax.set(xlabel=r'DM mass (GeV/c$^2$)', ylabel='detector temperature (K)', xscale='log', yscale='log')\n",
    "plt.show()\n",
    "\n",
    "print(r'Sensitivity of the windchime experiment with a $101^3$ sensor array with 1 g test masses and 10 metre sides, as a function of temperature to various dark matter masses. This corresponds to an exposure of 1 year.')"
   ]
  },
  {
   "cell_type": "code",
   "execution_count": 51,
   "metadata": {},
   "outputs": [
    {
     "data": {
      "text/plain": [
       "2.3352984110564674"
      ]
     },
     "execution_count": 51,
     "metadata": {},
     "output_type": "execute_result"
    }
   ],
   "source": [
    "chime.dm_events_per_year(mass_dm=7e19*GeV_per_c2, rho_dm=rho_dm, v_dm=v_dm)"
   ]
  },
  {
   "cell_type": "code",
   "execution_count": null,
   "metadata": {},
   "outputs": [],
   "source": []
  }
 ],
 "metadata": {
  "kernelspec": {
   "display_name": "Python 3",
   "language": "python",
   "name": "python3"
  },
  "language_info": {
   "codemirror_mode": {
    "name": "ipython",
    "version": 3
   },
   "file_extension": ".py",
   "mimetype": "text/x-python",
   "name": "python",
   "nbconvert_exporter": "python",
   "pygments_lexer": "ipython3",
   "version": "3.8.11"
  }
 },
 "nbformat": 4,
 "nbformat_minor": 4
}
