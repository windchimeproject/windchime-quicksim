{
 "cells": [
  {
   "cell_type": "markdown",
   "metadata": {},
   "source": [
    "# Impact parameter for random lines in square lattice\n",
    "\n",
    "*Christopher Tunnell tunnell@rice.edu*\n",
    "*Charles Dyall crd15@rice.edu*\n",
    "\n",
    "This notebook computes the [impact parameter](https://en.wikipedia.org/wiki/Impact_parameter) between nodes of a cubic lattice and random lines.  The purpose of this notebook is to demonstrate for Windchime that a few nodes will have significantly smaller impact parameters relative to the lattice spacing, which becomes even more advantageous when factoring in the $r^2$ scaling of gravitational attraction.\n",
    "\n",
    "Based on idea originally from Juehang Qin (Purdue)."
   ]
  },
  {
   "cell_type": "code",
   "execution_count": 1,
   "metadata": {},
   "outputs": [],
   "source": [
    "import numpy as np\n",
    "import matplotlib.pyplot as plt\n",
    "from tqdm import tqdm"
   ]
  },
  {
   "cell_type": "markdown",
   "metadata": {},
   "source": [
    "## Experimental setup\n",
    "\n",
    "Set these parameters of the simulation."
   ]
  },
  {
   "cell_type": "code",
   "execution_count": 2,
   "metadata": {},
   "outputs": [],
   "source": [
    "# There are two free parameters.  The length\n",
    "# scale L, where the cube goes from [-L/2, L/2] in\n",
    "# each dimension.  Then there are 'n' sensors along\n",
    "# this axis.\n",
    "L = 1. # m\n",
    "n = 1001 # number of sensors\n",
    "\n",
    "# We will compute the average impact factor for\n",
    "# 'lines' number of random lines.\n",
    "lines = 100"
   ]
  },
  {
   "cell_type": "markdown",
   "metadata": {},
   "source": [
    "_No need to modify below here if you are just running the code and not developing_"
   ]
  },
  {
   "cell_type": "code",
   "execution_count": 3,
   "metadata": {},
   "outputs": [
    {
     "name": "stdout",
     "output_type": "stream",
     "text": [
      "Spacing 0.01 m\n"
     ]
    }
   ],
   "source": [
    "x = y = z = np.linspace(-L/2, L/2, n)\n",
    "spacing = x[1] - x[0]\n",
    "print(f'Spacing {spacing:0.3g} m')"
   ]
  },
  {
   "cell_type": "code",
   "execution_count": 4,
   "metadata": {},
   "outputs": [],
   "source": [
    "# These contain the 3D coordinates of each node.\n",
    "X, Y, Z = np.meshgrid(x, y, z,\n",
    "                      indexing='ij')\n",
    "\n",
    "# Lattice nodes in shape of (3,n) for each of computation\n",
    "points = np.stack((X.ravel(), Y.ravel(), Z.ravel())).T\n",
    "\n",
    "# This will be distances, aka impact parameter\n",
    "D = np.zeros_like(X)"
   ]
  },
  {
   "cell_type": "markdown",
   "metadata": {},
   "source": [
    "## Compute distances of sensors to random line\n",
    "\n",
    "The first step will be to compute the distance from random lines (defined by two random points on cube boundary) to the sensors."
   ]
  },
  {
   "cell_type": "markdown",
   "metadata": {},
   "source": [
    "![DrawingCoord](PointLineDistance3D_1000.gif)"
   ]
  },
  {
   "cell_type": "code",
   "execution_count": 5,
   "metadata": {},
   "outputs": [],
   "source": [
    "def shuffle_along_axis(a, axis):\n",
    "    # This shuffles randomly x, y, z positions in an\n",
    "    # array of positions.  This is for generating random\n",
    "    # positions later.\n",
    "    idx = np.random.rand(*a.shape).argsort(axis=axis)\n",
    "    return np.take_along_axis(a,idx,axis=axis)"
   ]
  },
  {
   "cell_type": "code",
   "execution_count": 6,
   "metadata": {},
   "outputs": [],
   "source": [
    "def random_point_cube(n = 5):\n",
    "    # Pick a random point on the surface of a cube.\n",
    "    \n",
    "    # Pick side of cube\n",
    "    s = np.random.randint(6, size=n)\n",
    "\n",
    "    # One axis is just the face distance\n",
    "    # (Warning: this sets everything to L)\n",
    "    result = np.random.choice((L/2, -L/2), (n, 3))\n",
    "\n",
    "    # Then pick random point on that face\n",
    "    result[:, 1:] = (np.random.random((n,2)) - 0.5) * L\n",
    "\n",
    "    return shuffle_along_axis(result, axis=1)\n",
    "\n",
    "#random_point_cube(2)"
   ]
  },
  {
   "cell_type": "code",
   "execution_count": 7,
   "metadata": {},
   "outputs": [],
   "source": [
    "# This is used for defining our own cross product\n",
    "eijk = np.zeros((3, 3, 3))\n",
    "eijk[0, 1, 2] = eijk[1, 2, 0] = eijk[2, 0, 1] = 1\n",
    "eijk[0, 2, 1] = eijk[2, 1, 0] = eijk[1, 0, 2] = -1\n",
    "\n",
    "def cross_array(a, b):\n",
    "    # Returns cross product of a[] and b[] produces a[i]xb[i]\n",
    "    return np.einsum('ijk,aj,ak->ai', eijk,\n",
    "                     a, b)\n",
    "\n",
    "# Check\n",
    "a = np.random.random(((5, 3)))\n",
    "b = np.random.random(((5, 3)))\n",
    "assert (np.cross(a[0], b[0]) == cross_array(a, b)[0]).all()"
   ]
  },
  {
   "cell_type": "code",
   "execution_count": 8,
   "metadata": {},
   "outputs": [],
   "source": [
    "def distance2(x0, x1, x2):\n",
    "    # Determine impact parameter\n",
    "    # Distance of point x0[] from line formed by x1, x2\n",
    "    # https://mathworld.wolfram.com/Point-LineDistance3-Dimensional.html\n",
    "    return np.linalg.norm(cross_array((x0 - x1),\n",
    "                                   (x0 - x2)),\n",
    "                         axis=1) / np.linalg.norm(x2 - x1)"
   ]
  },
  {
   "cell_type": "code",
   "execution_count": 9,
   "metadata": {},
   "outputs": [],
   "source": [
    "assert 0 == distance2(np.array(((0, 0, 0), (0,0,0))),\n",
    "                     np.array((0, 0, 0)),\n",
    "                     np.array((0, 0, 1)))[0]\n",
    "assert 1 == distance2(np.array(((0, 1, 0), (0,0,0))),\n",
    "                     np.array((0, 0, 0)),\n",
    "                     np.array((0, 0, 1)))[0]"
   ]
  },
  {
   "cell_type": "code",
   "execution_count": 10,
   "metadata": {},
   "outputs": [],
   "source": [
    "Gn = 6.67430e-11 # m^3 kg^-1 s^-2, https://en.wikipedia.org/wiki/Newton%27s_law_of_universal_gravitation\n",
    "\n",
    "def get_impulse(b,\n",
    "                Msensor = 1e-3, # kg, i.e. a gram\n",
    "                Mdm = 2.176434e-8, # kg https://en.wikipedia.org/wiki/Planck_units\n",
    "                v = 220000, # m/s, from memory\n",
    "               ):\n",
    "    # Get impulse (momentum change) b[] impact parameter\n",
    "    # Eq. 2 of https://arxiv.org/pdf/1903.00492.pdf\n",
    "    # Integrate[Gn * Mx * Ms * b / (b^2 + v^2 * x^2)^(3/2),{x, -Infinity, Infinity}]\n",
    "    return (2 * b * Gn * Msensor * Mdm)/(b**2)**(3/2) * np.sqrt(v**2/b**2)\n"
   ]
  },
  {
   "cell_type": "markdown",
   "metadata": {},
   "source": [
    "We bin for the computation so we are not storing tons of distances for each position. This is more memory efficient since we are able to simulate so many realizations of the detector."
   ]
  },
  {
   "cell_type": "code",
   "execution_count": 11,
   "metadata": {},
   "outputs": [],
   "source": [
    "number_of_bins = 200 # many bins, can always reduce\n",
    "\n",
    "max_l = np.sqrt(3) * 2 * L\n",
    "\n",
    "bins_b = np.logspace(-15,\n",
    "                     np.log10(max_l),\n",
    "                     number_of_bins)\n",
    "data_b = np.zeros_like(bins_b[1:])\n",
    "\n",
    "bins_b2 = np.logspace(np.log10((max_l)**-2),\n",
    "                      15,\n",
    "                     number_of_bins)\n",
    "data_b2 = np.zeros_like(bins_b2[1:])\n",
    "\n",
    "bins_J = np.logspace(-20,\n",
    "                      3,\n",
    "                     number_of_bins)\n",
    "data_J = np.zeros_like(bins_J[1:])\n",
    "\n",
    "\n",
    "# How many times did we simulate.  This means you can\n",
    "# run the computation incrementally by rerunning block\n",
    "# below.\n",
    "computed_n = 0 "
   ]
  },
  {
   "cell_type": "markdown",
   "metadata": {},
   "source": [
    "### The computation loop\n",
    "\n",
    "You can rerun this.  Here we integrate over random lines."
   ]
  },
  {
   "cell_type": "code",
   "execution_count": null,
   "metadata": {},
   "outputs": [
    {
     "name": "stderr",
     "output_type": "stream",
     "text": [
      "  2%|▏         | 2/100 [15:11<12:23:51, 455.42s/it]"
     ]
    }
   ],
   "source": [
    "# Create pairs of random 3D points on cube that\n",
    "# define the line.\n",
    "line_seeds = random_point_cube(n=2*lines).reshape(lines,\n",
    "                                                  2,\n",
    "                                                  3)\n",
    "\n",
    "for x1, x2 in tqdm(line_seeds):\n",
    "    # x1 and x2 are points defining random line\n",
    "    \n",
    "    # Here is the computation in 3 steps\n",
    "    # result etc is vector with one element per sensor\n",
    "    result = distance2(points, # sensor locations\n",
    "                       x1, x2, # this is the line\n",
    "                      )\n",
    "    result2 = result**-2\n",
    "    result3 = get_impulse(result)\n",
    "        \n",
    "    data_b += np.histogram(result,\n",
    "                           bins=bins_b)[0]/lines\n",
    "    data_b2 += np.histogram(result2,\n",
    "                            bins=bins_b2)[0]/lines\n",
    "    data_J += np.histogram(get_impulse(result),\n",
    "                           bins=bins_J)[0]/lines\n",
    "    \n",
    "    # Some sanity checks to check results in bin bounds\n",
    "    assert bins_b[0] < result.min(), result.min()\n",
    "    assert bins_b[-1] > result.max(), result.max()\n",
    "    assert bins_b2[0] < result2.min(), result2.min()\n",
    "    assert bins_b2[-1] > result2.max(), result2.max()\n",
    "    assert bins_J[0] < result3.min(), np.log10(result3.min())\n",
    "    assert bins_J[-1] > result3.max(), np.log10(result3.max())\n",
    "    \n",
    "computed_n += lines"
   ]
  },
  {
   "cell_type": "code",
   "execution_count": null,
   "metadata": {},
   "outputs": [],
   "source": [
    "filename = 'windchime_cache.npz'"
   ]
  },
  {
   "cell_type": "code",
   "execution_count": null,
   "metadata": {},
   "outputs": [],
   "source": [
    "np.savez(open(filename, 'wb'),\n",
    "         bins_b=bins_b, data_b=data_b,\n",
    "         bins_b2=bins_b2, data_b2=data_b2,\n",
    "         bins_J=bins_J, data_J=data_J,\n",
    "         computed_n=computed_n)"
   ]
  },
  {
   "cell_type": "code",
   "execution_count": null,
   "metadata": {},
   "outputs": [],
   "source": [
    "with np.load(filename) as file:\n",
    "    bins_b = file['bins_b']\n",
    "    data_b = file['data_b']\n",
    "    bins_b2 = file['bins_b2']\n",
    "    data_b2 = file['data_b2']\n",
    "    bins_J = file['bins_J']\n",
    "    data_J = file['data_J']\n",
    "    computed_n = file['computed_n']"
   ]
  },
  {
   "cell_type": "code",
   "execution_count": null,
   "metadata": {},
   "outputs": [],
   "source": [
    "def get_nonzero_xlim(data, bins):\n",
    "    # This function just identifies left and right\n",
    "    # bounds to suppress zero bins on either side.\n",
    "    return (bins[np.argmax(data > 0)],\n",
    "            bins[-1*np.argmax(np.flip(data) > 0)])"
   ]
  },
  {
   "cell_type": "markdown",
   "metadata": {},
   "source": [
    "## Plot impact parameter\n",
    "\n",
    "The impact parameter is $b$"
   ]
  },
  {
   "cell_type": "code",
   "execution_count": null,
   "metadata": {},
   "outputs": [],
   "source": [
    "fig, ax = plt.subplots()\n",
    "ax.bar(bins_b[:-1],\n",
    "       data_b,\n",
    "       width=np.diff(bins_b),\n",
    "       align=\"edge\")\n",
    "\n",
    "plt.loglog()\n",
    "plt.axvline(spacing, label='$s$', color='red')\n",
    "plt.axvline(L, label='$L$', color='black')\n",
    "plt.legend()\n",
    "plt.xlabel('Impact parameter $b$ [m]')\n",
    "plt.ylabel('Counts per line [arb.]')\n",
    "plt.axhline(1, color='yellow', ls='--')\n",
    "plt.xlim(*get_nonzero_xlim(data_b, bins_b))\n",
    "plt.text(0.05, 0.35, f'Lattice side $L$ = {L} m\\nSpacing $s$ = {spacing:0.3f} m\\nImpact parameter $b$\\n{n}${{}}^3$ sensors\\n{computed_n} random tracks', transform=ax.transAxes)\n",
    "_= plt.show()\n"
   ]
  },
  {
   "cell_type": "markdown",
   "metadata": {},
   "source": [
    "## Displacements in force law"
   ]
  },
  {
   "cell_type": "code",
   "execution_count": null,
   "metadata": {},
   "outputs": [],
   "source": [
    "fig, ax = plt.subplots()\n",
    "ax.bar(bins_b2[:-1],\n",
    "       data_b2,\n",
    "       width=np.diff(bins_b2),\n",
    "       align=\"edge\")\n",
    "\n",
    "plt.loglog()\n",
    "plt.axvline((spacing)**(-2), label='$s^{-2}$', color='red')\n",
    "plt.legend()\n",
    "plt.xlabel('$b^{-2}$ [m${}^{-2}$]')\n",
    "plt.ylabel('Counts per line [arb.]')\n",
    "plt.axhline(1, color='yellow', ls='--')\n",
    "plt.xlim(*get_nonzero_xlim(data_b2, bins_b2))\n",
    "plt.text(0.65, 0.35, f'Lattice side $L$ = {L} m\\nSpacing $s$ = {spacing:0.3f} m\\nImpact parameter $b$\\n{n}${{}}^3$ sensors\\n{computed_n} random tracks', transform=ax.transAxes)\n",
    "\n",
    "_= plt.show()"
   ]
  },
  {
   "cell_type": "markdown",
   "metadata": {},
   "source": [
    "## Impulse"
   ]
  },
  {
   "cell_type": "code",
   "execution_count": null,
   "metadata": {},
   "outputs": [],
   "source": [
    "fig, ax = plt.subplots()\n",
    "ax.bar(bins_J[:-1],\n",
    "       data_J,\n",
    "       width=np.diff(bins_J),\n",
    "       align=\"edge\")\n",
    "\n",
    "plt.loglog()\n",
    "plt.axvline(get_impulse(spacing), label='$s$', color='green')\n",
    "plt.axvline(get_impulse(L), label='$L$', color='red')\n",
    "plt.axhline(1, color='yellow', ls='--')\n",
    "plt.legend()\n",
    "plt.xlabel('Impulse [N$\\cdot$s]')\n",
    "plt.ylabel('Counts per line [arb.]')\n",
    "plt.xlim(*get_nonzero_xlim(data_J, bins_J))\n",
    "plt.text(0.65, 0.35, f'Lattice side $L$ = {L} m\\nSpacing $s$ = {spacing:0.3f} m\\nImpact parameter $b$\\n{n}${{}}^3$ sensors\\n{computed_n} random tracks', transform=ax.transAxes)\n",
    "\n",
    "_= plt.show()"
   ]
  },
  {
   "cell_type": "code",
   "execution_count": null,
   "metadata": {},
   "outputs": [],
   "source": []
  }
 ],
 "metadata": {
  "kernelspec": {
   "display_name": "Python 3",
   "language": "python",
   "name": "python3"
  },
  "language_info": {
   "codemirror_mode": {
    "name": "ipython",
    "version": 3
   },
   "file_extension": ".py",
   "mimetype": "text/x-python",
   "name": "python",
   "nbconvert_exporter": "python",
   "pygments_lexer": "ipython3",
   "version": "3.8.1"
  }
 },
 "nbformat": 4,
 "nbformat_minor": 4
}
